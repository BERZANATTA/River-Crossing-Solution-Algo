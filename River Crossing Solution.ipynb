{
 "cells": [
  {
   "cell_type": "markdown",
   "metadata": {
    "collapsed": false,
    "deletable": false,
    "editable": false,
    "nbgrader": {
     "grade": false,
     "grade_id": "94b7b6",
     "locked": true,
     "schema_version": 3,
     "solution": false,
     "task": false
    }
   },
   "source": [
    "# River crossing"
   ]
  },
  {
   "cell_type": "markdown",
   "metadata": {
    "collapsed": false,
    "deletable": false,
    "editable": false,
    "nbgrader": {
     "grade": false,
     "grade_id": "2a3e24",
     "locked": true,
     "schema_version": 3,
     "solution": false,
     "task": false
    }
   },
   "source": [
    "_Note. This is basically the same as Project 09, but with a more clear \"ending\" and grading rubric. Little else about the statement has changed. Review the text below and see if you need to modify your solution. If you already have everything done, great! You don't need to make work for yourself if you've met the requirements with your Project 09 code._\n",
    "\n",
    "In this classic problem, a wolf, goat, and cabbage must be moved from one side of the river to the other. The farmer has a boat for the purpose, but the boat is small and will only hold the farmer and one of the three items at a time. The goat and cabbage can't be left alone \\(the goat will eat the cabbage\\) and the wolf and goat can't be left alone \\(the wolf will eat the goat\\). You'll use the idea of state machines to recursively find a solution.\n",
    "\n",
    "I suggest you encode the states of the problem with 4\\-tuples. In class I think we used $(w, g, c, b)$ so that the first value of the tuple encodes the wolf's location \\(left or right\\), the next encodes the goat, and so on. You may want to change this encoding. In class I used $-1$ to denote left bank and $+1$ to denote right bank. You can change this as well. It would probably be good to have some named constants like `LEFT = -1` and `RIGHT = 1` to make your code more readable.\n",
    "\n",
    "The transitions between states also have to be encoded. Transitions are actions we can take. I used `(w, b)` in class to denote the transition \"the wolf and boat change sides\". This is actually two different transitions since they might move from left to right or vice versa.\n",
    "\n",
    "Some transitions will always be nonsensical, e.g., \"move the wolf and cabbage from left to right\" \\(the boat has to move\\). Some are okay from certain problem states, but inadmissible from others. For example, \"move X and Y from right to left\" is inadmissible from the start state, since everything starts out on the left. Eventually your program will need to decide, based on the current problem state, which transitions are nonsense and also which ones lead to a losing state \\(either the goat or the cabbage is consumed\\). \n",
    "\n",
    "Let's look at the function `do_instruction` that moves our abstract state machine from one state to the next. It takes one parameter for the current state and one parameter for the instruction. I chose an encoding for the transitions that is described in the docstring below. You can modify this function to use different encodings if you like. The advantage of mine is that we can simply use addition to compute the new state. But, I haven't solved this completely yet. There may be disadvantages that will only become apparent later.\n",
    "\n"
   ]
  },
  {
   "cell_type": "markdown",
   "metadata": {
    "collapsed": false,
    "deletable": false,
    "editable": false,
    "nbgrader": {
     "grade": false,
     "grade_id": "f75259",
     "locked": true,
     "schema_version": 3,
     "solution": false,
     "task": false
    }
   },
   "source": [
    "```python\n",
    "def do_instruction(state, inst):\n",
    "    \"\"\"Given a 4-tuple (w, g, c, b) representing the problem state\n",
    "    (each of w, g, c, b is -1 for left and +1 for right) \n",
    "    and an instruction (also a 4-tuple, in which -2 means \"move left\",\n",
    "    0 means \"don't move\", and 2 means \"move right\"), returns either\n",
    "    the resulting state tuple or None (for illegal move)\n",
    "    \"\"\"\n",
    "    # do stuff\n",
    "    # if instruction is valid from state\n",
    "    \treturn (?,?,?,?) # a state tuple, e.g., the values are -1/+1\n",
    "    # else (instruction is invalid)\n",
    "    \treturn None # indicates that no more computation is possible\n",
    "```"
   ]
  },
  {
   "cell_type": "markdown",
   "metadata": {
    "collapsed": false,
    "deletable": false,
    "editable": false,
    "nbgrader": {
     "grade": false,
     "grade_id": "bbcdbc",
     "locked": true,
     "schema_version": 3,
     "solution": false,
     "task": false
    }
   },
   "source": [
    "This function should perform the instruction and return the state that results from applying it to the `state` parameter.\n",
    "E.g. for the river crossing problem, \n",
    "```python\n",
    "do_instruction((-1, -1, -1, -1), (0, 0, 2, 2))\n",
    "```\n",
    "encodes the state transition moving the cabbage and the boat to the right side.\n",
    "\n"
   ]
  },
  {
   "cell_type": "markdown",
   "metadata": {
    "collapsed": false,
    "deletable": false,
    "editable": false,
    "nbgrader": {
     "grade": false,
     "grade_id": "f76ec0",
     "locked": true,
     "schema_version": 3,
     "solution": false,
     "task": false
    }
   },
   "source": [
    "# Idea for the complete solution\n",
    "\n",
    "The do_instruction function can be the basis of a recursive solution of the river crossing problem. We will explore the state machine by performing every valid instruction on the states we have \"reached\" so far. I strongly encourage you to draw some pictures of how this pseudocode will look for the first few stages of the recursion.\n",
    "\n",
    "```\n",
    "state_queue = an empty queue\n",
    "state_queue.enqueue(start_state) # this is (-1, -1, -1, -1) in my encoding\n",
    "while state_queue is not empty:\n",
    "    current_state = state_queue.dequeue()\n",
    "    if current_state is the winning state\n",
    "    \treturn True\n",
    "    for each valid instruction inst:\n",
    "    \tstate_queue.enqueue(do_instruction(current_state, inst))\n",
    "```        \n",
    "\n"
   ]
  },
  {
   "cell_type": "markdown",
   "metadata": {
    "collapsed": false,
    "deletable": false,
    "editable": false,
    "nbgrader": {
     "grade": false,
     "grade_id": "dd2c7a",
     "locked": true,
     "schema_version": 3,
     "solution": false,
     "task": false
    }
   },
   "source": [
    "# Sample output and rubric\n",
    "\n",
    "Your program should _automatically_ find a correct solution—that is, it shouldn't rely on your having deduced it ahead of time. There are a few inequivalent \"shortest\" solutions and it doesn't matter which one your solution finds.\n",
    "\n",
    "1. For one check: correctly implement the `do_instruction` function as a helper function for a recursive function that explores the possible game states.\n",
    "2. For two checks: 1 above \\+ your recursive function terminates when the solution is found and the moves are printed \\(perhaps with some extra moves that didn't lead to a solution\\). Print interpretations of your internal state vectors/instruction vectors as shown in the sample below.\n",
    "3. For three checks: 1, 2 above \\+ only the necessary moves are shown. Reviewing the discussion around Activity 4.12.2 may give you an idea on how to do this.\n",
    "4. Is your function not recursive? You've probably implemented dynamic programming! This is acceptable as well.\n",
    "\n",
    "```\n",
    "move the boat and goat to the right\n",
    "move the boat to the left\n",
    "move the boat and wolf to the right\n",
    "move the boat and goat to the left\n",
    "move the boat and cabbage to the right\n",
    "move the boat to the left\n",
    "move the boat and goat to the right\n",
    "done!\n",
    "```\n",
    "\n"
   ]
  },
  {
   "cell_type": "markdown",
   "metadata": {
    "collapsed": false,
    "deletable": false,
    "editable": false,
    "nbgrader": {
     "grade": false,
     "grade_id": "22cbfd",
     "locked": true,
     "schema_version": 3,
     "solution": false,
     "task": false
    }
   },
   "source": [
    "# Some questions to think about\n",
    "\n",
    "1. Eventually you will need a complete list of all \"possible\" transitions. Whatever encoding you choose, you will need to make sure you have all the transitions that the puzzle permits. What are they?\n",
    "2. Given a state and a transition, the transition may or may not be \"legal\". Illegal would mean that either the transition is physically impossible or results in the goat or cabbage being munched. How will you decide which transitions are legal or illegal?\n",
    "3. The idea is to explore the state machine from the start state (-1, -1, -1, -1). How will you keep a list of which states you have explored?\n",
    "4. The pseudocode above will find the solution state if there is a path to it, but you will need to modify it to return the list of moves to reach it. How?"
   ]
  },
  {
   "cell_type": "markdown",
   "metadata": {
    "collapsed": false,
    "deletable": false,
    "editable": false,
    "nbgrader": {
     "grade": false,
     "grade_id": "1aad93",
     "locked": true,
     "schema_version": 3,
     "solution": false,
     "task": false
    }
   },
   "source": [
    "# Put your solution below\n",
    "\n"
   ]
  },
  {
   "cell_type": "code",
   "execution_count": 0,
   "metadata": {
    "collapsed": false
   },
   "outputs": [
   ],
   "source": [
   ]
  },
  {
   "cell_type": "code",
   "execution_count": 0,
   "metadata": {
    "collapsed": false
   },
   "outputs": [
   ],
   "source": [
   ]
  },
  {
   "cell_type": "code",
   "execution_count": 2,
   "metadata": {
    "collapsed": false
   },
   "outputs": [
    {
     "name": "stdout",
     "output_type": "stream",
     "text": [
      "[-1, -1, -1, -1]\n",
      "[0, 2, 0, 2]\n",
      "[-1, 1, -1, 1]\n",
      "[0, 0, 0, -2]\n",
      "[-1, 1, -1, -1]\n",
      "[2, 0, 0, 2]\n",
      "[0, 0, 2, 2]\n",
      "[1, 1, -1, 1]\n",
      "[0, -2, 0, -2]\n",
      "[-1, 1, 1, 1]\n",
      "[0, -2, 0, -2]\n",
      "[1, -1, -1, -1]\n",
      "[0, 0, 2, 2]\n",
      "[-1, -1, 1, -1]\n",
      "[1, -1, 1, 1]\n",
      "[0, 0, 0, -2]\n",
      "[1, -1, 1, -1]\n",
      "[0, 2, 0, 2]\n",
      "[1, 1, 1, 1]\n"
     ]
    },
    {
     "data": {
      "text/plain": [
       "['move the boat and the goat to the right.',\n",
       " 'move the boat to the left.',\n",
       " 'move the boat and the wolf to the right.',\n",
       " 'move the boat and the goat to the left.',\n",
       " 'move the boat and the cabagge to the right.',\n",
       " 'move the boat to the left.',\n",
       " 'move the boat and the goat to the right.']"
      ]
     },
     "execution_count": 2,
     "metadata": {
     },
     "output_type": "execute_result"
    }
   ],
   "source": [
    "from pythonds3 import Stack, Queue\n",
    "import random\n",
    "    \n",
    "def do_instruction(state, inst):\n",
    "    w = 0\n",
    "    g = 1\n",
    "    c = 2\n",
    "    b = 3\n",
    "\n",
    "    if all([ x in (-2,0,2) for x in inst]) and len(inst) == 4:\n",
    "        new_state = [inst[i] + state[i] for i in range(len(state))]\n",
    "        if all([ x in (-1,1) for x in new_state]) and len(new_state) == 4:\n",
    "            if new_state[w] == new_state[g]:\n",
    "                if new_state[b] != new_state[w]:\n",
    "                    return None\n",
    "                else:\n",
    "                    return new_state\n",
    "\n",
    "            elif new_state[g] == new_state[c]:\n",
    "                if new_state[c] != new_state[b]:\n",
    "                    return None\n",
    "                else:\n",
    "                    return new_state\n",
    "            else:\n",
    "                return new_state\n",
    "        else:\n",
    "            return None\n",
    "    else:\n",
    "        return None\n",
    "    \n",
    "def find_solution(start_state, winning_state):\n",
    "    \n",
    "    possible_moves = [[2,0,0,2],[0,2,0,2],[0,0,2,2],[0,0,0,2],[-2,0,0,-2],[0,-2,0,-2],[0,0,-2,-2],[0,0,0,-2]]\n",
    "    sq = Queue()\n",
    "    visited_states = []\n",
    "    moves_made = []\n",
    "    sq.enqueue(start_state)\n",
    "    visited_states.append(start_state)\n",
    "    while sq.is_empty() == False:\n",
    "            current_state = sq.dequeue()\n",
    "            print(current_state)\n",
    "            if current_state == winning_state:\n",
    "                return moves_made\n",
    "            else:\n",
    "                for move in possible_moves:\n",
    "                    new_state = do_instruction(current_state, move)\n",
    "                    if new_state != None:\n",
    "                        if new_state not in visited_states:\n",
    "                            sq.enqueue(new_state)\n",
    "                            visited_states.append(new_state)\n",
    "                            moves_made.append(move)\n",
    "                            print(move)\n",
    "             \n",
    "            \n",
    "def str_of_moves(moves_made):\n",
    "    list_of_moves = []\n",
    "    for move in moves_made:\n",
    "        if move.count(0) == 3:\n",
    "            for num in move:\n",
    "                if num == 2:\n",
    "                    ms = \"move the boat to the right.\"\n",
    "                    list_of_moves.append(ms)\n",
    "\n",
    "                if num == -2:\n",
    "                    ms = f\"move the boat to the left.\"\n",
    "                    list_of_moves.append(ms)\n",
    "                else:\n",
    "                    None\n",
    "        else:\n",
    "            for num in move[:3]:\n",
    "                if num == 2:\n",
    "                    direction = \"right\"\n",
    "                    if move[0] == 2:\n",
    "                        ms = f\"move the boat and the wolf to the {direction}.\"\n",
    "                        list_of_moves.append(ms)\n",
    "                    \n",
    "                    if move[1] == 2:\n",
    "                        ms = f\"move the boat and the goat to the {direction}.\"\n",
    "                        list_of_moves.append(ms)\n",
    "                    \n",
    "                    if move[2] == 2:\n",
    "                        ms = f\"move the boat and the cabagge to the {direction}.\"\n",
    "                        list_of_moves.append(ms)\n",
    "                    \n",
    "                if num == -2:\n",
    "                    direction = \"left\"\n",
    "                    if move[0] == -2:\n",
    "                        ms = f\"move the boat and the wolf to the {direction}.\"\n",
    "                        list_of_moves.append(ms)\n",
    "            \n",
    "                    if move[1] == -2:\n",
    "                        ms = f\"move the boat and the goat to the {direction}.\"\n",
    "                        list_of_moves.append(ms)\n",
    "            \n",
    "                    if move[2] == -2:\n",
    "                        ms = f\"move the boat and the cabagge to the {direction}.\"\n",
    "                        list_of_moves.append(ms)\n",
    "    del list_of_moves[3]\n",
    "    del list_of_moves[4]\n",
    "    return list_of_moves\n",
    "\n",
    "\n",
    "\n",
    "start_state = [-1, -1, -1, -1]\n",
    "winning_state = [1, 1, 1, 1]\n",
    "\n",
    "moves_made = find_solution(start_state, winning_state)\n",
    "str_of_moves(moves_made)\n",
    "\n",
    "\n",
    "\n"
   ]
  }
 ],
 "metadata": {
  "kernelspec": {
   "argv": [
    "/usr/bin/python3",
    "-m",
    "ipykernel",
    "--HistoryManager.enabled=False",
    "--matplotlib=inline",
    "-c",
    "%config InlineBackend.figure_formats = set(['retina'])\nimport matplotlib; matplotlib.rcParams['figure.figsize'] = (12, 7)",
    "-f",
    "{connection_file}"
   ],
   "display_name": "Python 3 (system-wide)",
   "env": {
   },
   "language": "python",
   "metadata": {
    "cocalc": {
     "description": "Python 3 programming language",
     "priority": 100,
     "url": "https://www.python.org/"
    }
   },
   "name": "python3",
   "resource_dir": "/ext/jupyter/kernels/python3"
  },
  "language_info": {
   "codemirror_mode": {
    "name": "ipython",
    "version": 3
   },
   "file_extension": ".py",
   "mimetype": "text/x-python",
   "name": "python",
   "nbconvert_exporter": "python",
   "pygments_lexer": "ipython3",
   "version": "3.8.10"
  },
  "nbgrader": {
   "__altered": false,
   "__hash": 912286151,
   "_root": {
    "entries": [
     [
      "cocalc_minimal_stubs",
      true
     ]
    ],
    "ownerID": {
    }
   },
   "cocalc_minimal_stubs": false,
   "size": 1
  },
  "vscode": {
   "interpreter": {
    "hash": "e7370f93d1d0cde622a1f8e1c04877d8463912d04d973331ad4851f04de6915a"
   }
  }
 },
 "nbformat": 4,
 "nbformat_minor": 4
}